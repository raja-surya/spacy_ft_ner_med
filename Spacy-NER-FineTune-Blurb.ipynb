{
 "cells": [
  {
   "cell_type": "markdown",
   "id": "4f2c9e0d",
   "metadata": {},
   "source": [
    "# Fine tuning a Spacy model on a bio-medical dataset \"Blurb\" \n",
    "\n",
    "#### Fairly good performance, but have to try fine tuning the hyper-params - \"accuracy vs efficiency\" options, batch size, max number of epochs etc.\n",
    "\n",
    "\n",
    "## Dataset\n",
    "\n",
    "\n",
    "#### https://huggingface.co/datasets/EMBO/BLURB\n",
    "\n",
    "JNLPBA\n",
    "The BioNLP / JNLPBA Shared Task 2004 involves the identification and classification of technical terms referring to concepts of interest to biologists in the domain of molecular biology. The task was organized by GENIA Project based on the annotations of the GENIA Term corpus (version 3.02). Corpus format: **The JNLPBA corpus is distributed in IOB format, with each line containing a single token and its tag, separated by a tab character. Sentences are separated by blank lines.**\n"
   ]
  },
  {
   "cell_type": "markdown",
   "id": "90f4aac2",
   "metadata": {},
   "source": [
    "### Import Spacy"
   ]
  },
  {
   "cell_type": "code",
   "execution_count": 1,
   "id": "6f7715a5",
   "metadata": {},
   "outputs": [],
   "source": [
    "import spacy"
   ]
  },
  {
   "cell_type": "code",
   "execution_count": 3,
   "id": "b116de70",
   "metadata": {},
   "outputs": [
    {
     "name": "stdout",
     "output_type": "stream",
     "text": [
      "\u001b[1m\n",
      "============================== Info about spaCy ==============================\u001b[0m\n",
      "\n",
      "spaCy version    3.7.4                         \n",
      "Location         C:\\Users\\rajar\\anaconda3\\lib\\site-packages\\spacy\n",
      "Platform         Windows-10-10.0.19041-SP0     \n",
      "Python version   3.8.5                         \n",
      "Pipelines                                      \n",
      "\n"
     ]
    }
   ],
   "source": [
    "!python -m spacy info"
   ]
  },
  {
   "cell_type": "markdown",
   "id": "fbd8bf13",
   "metadata": {},
   "source": [
    "### Load dataset"
   ]
  },
  {
   "cell_type": "code",
   "execution_count": 4,
   "id": "f8b03dbf",
   "metadata": {},
   "outputs": [
    {
     "data": {
      "text/plain": [
       "DatasetDict({\n",
       "    train: Dataset({\n",
       "        features: ['id', 'tokens', 'ner_tags'],\n",
       "        num_rows: 18608\n",
       "    })\n",
       "    validation: Dataset({\n",
       "        features: ['id', 'tokens', 'ner_tags'],\n",
       "        num_rows: 1940\n",
       "    })\n",
       "    test: Dataset({\n",
       "        features: ['id', 'tokens', 'ner_tags'],\n",
       "        num_rows: 4261\n",
       "    })\n",
       "})"
      ]
     },
     "execution_count": 4,
     "metadata": {},
     "output_type": "execute_result"
    }
   ],
   "source": [
    "import datasets \n",
    "blurb = datasets.load_dataset(\"EMBO/BLURB\", \"JNLPBA\") \n",
    "blurb"
   ]
  },
  {
   "cell_type": "code",
   "execution_count": 9,
   "id": "bdf70b8c",
   "metadata": {},
   "outputs": [
    {
     "data": {
      "text/plain": [
       "datasets.arrow_dataset.Dataset"
      ]
     },
     "execution_count": 9,
     "metadata": {},
     "output_type": "execute_result"
    }
   ],
   "source": [
    "type(blurb['train'])"
   ]
  },
  {
   "cell_type": "code",
   "execution_count": 6,
   "id": "96f3d1c7",
   "metadata": {},
   "outputs": [
    {
     "name": "stdout",
     "output_type": "stream",
     "text": [
      "{'id': '1', 'tokens': ['IL-2', 'gene', 'expression', 'and', 'NF-kappa', 'B', 'activation', 'through', 'CD28', 'requires', 'reactive', 'oxygen', 'production', 'by', '5-lipoxygenase', '.'], 'ner_tags': [7, 8, 0, 0, 1, 2, 0, 0, 1, 0, 0, 0, 0, 0, 1, 0]}\n"
     ]
    }
   ],
   "source": [
    "print(blurb['train'][1])"
   ]
  },
  {
   "cell_type": "code",
   "execution_count": 7,
   "id": "fdea8998",
   "metadata": {},
   "outputs": [
    {
     "data": {
      "text/plain": [
       "Sequence(feature=ClassLabel(names=['O', 'B-protein', 'I-protein', 'B-cell_type', 'I-cell_type', 'B-cell_line', 'I-cell_line', 'B-DNA', 'I-DNA', 'B-RNA', 'I-RNA'], id=None), length=-1, id=None)"
      ]
     },
     "execution_count": 7,
     "metadata": {},
     "output_type": "execute_result"
    }
   ],
   "source": [
    "blurb['train'].features['ner_tags']"
   ]
  },
  {
   "cell_type": "code",
   "execution_count": 8,
   "id": "9e79f49f",
   "metadata": {},
   "outputs": [
    {
     "data": {
      "text/plain": [
       "{0: 'O',\n",
       " 1: 'B-protein',\n",
       " 2: 'I-protein',\n",
       " 3: 'B-cell_type',\n",
       " 4: 'I-cell_type',\n",
       " 5: 'B-cell_line',\n",
       " 6: 'I-cell_line',\n",
       " 7: 'B-DNA',\n",
       " 8: 'I-DNA',\n",
       " 9: 'B-RNA',\n",
       " 10: 'I-RNA'}"
      ]
     },
     "execution_count": 8,
     "metadata": {},
     "output_type": "execute_result"
    }
   ],
   "source": [
    "# Collect the labels and create a mapping between numbers and labels.\n",
    "label_lst = blurb['train'].features['ner_tags'].feature.names\n",
    "id_to_label = {id: label for id, label in enumerate(label_lst)}\n",
    "id_to_label"
   ]
  },
  {
   "cell_type": "markdown",
   "id": "883519b3",
   "metadata": {},
   "source": [
    "**The given dataset is arrow dataset. <br>\n",
    "The data is in form of list of individual words (tokens) and their corresponding ner_tags (labels). <br>\n",
    "Also there are no details of token offsets - start, end of each token. <br><br>\n",
    "But Spacy needs the data with text and entities like below <br>\n",
    "A list of dict {'text': \"given text\", 'entities': [List of entities]}** <br>\n",
    "{'text': 'IL-2 gene expression and NF-kappa B activation through CD28 requires reactive oxygen production by 5-lipoxygenase .',\n",
    "  'entities': [(0, 4, 'B-DNA'),\n",
    "   (5, 9, 'I-DNA'),\n",
    "   (25, 33, 'B-protein'),\n",
    "   (34, 35, 'I-protein'),\n",
    "   (55, 59, 'B-protein'),\n",
    "   (99, 113, 'B-protein')]}"
   ]
  },
  {
   "cell_type": "code",
   "execution_count": null,
   "id": "20a5775f",
   "metadata": {},
   "outputs": [],
   "source": []
  },
  {
   "cell_type": "markdown",
   "id": "f8a52952",
   "metadata": {},
   "source": [
    "### Data Preparation\n",
    "We convert the arrow dataset to the format which Spacy needs. \n",
    "First we will convert the dataset to pandas df for some pre-processing and \n",
    "then derive the data format needed for Spacy.\n"
   ]
  },
  {
   "cell_type": "code",
   "execution_count": 11,
   "id": "b88177a3",
   "metadata": {},
   "outputs": [
    {
     "name": "stdout",
     "output_type": "stream",
     "text": [
      "{0: 'O', 1: 'B-protein', 2: 'I-protein', 3: 'B-cell_type', 4: 'I-cell_type', 5: 'B-cell_line', 6: 'I-cell_line', 7: 'B-DNA', 8: 'I-DNA', 9: 'B-RNA', 10: 'I-RNA'}\n"
     ]
    }
   ],
   "source": [
    "print(id_to_label)"
   ]
  },
  {
   "cell_type": "code",
   "execution_count": 12,
   "id": "7d53569c",
   "metadata": {},
   "outputs": [],
   "source": [
    "import pyarrow as pa\n",
    "import pandas as pd\n",
    "\n",
    "# Given a list of ner_tags in numbers, return the list of corresponding label strings.\n",
    "def give_ner_labels(ner_lst):\n",
    "    ret_lst = []\n",
    "    for id in ner_lst:\n",
    "        ret_lst.append(id_to_label[id])\n",
    "    return(ret_lst)\n",
    "\n",
    "\n",
    "# Method to \n",
    "# 1. Combine the individual words in the 'tokens' column of each \n",
    "#     row of the dataframe in to a single sentence.\n",
    "# 2. Return a list of (start, end, label) of each word/token.\n",
    "\n",
    "def join_and_track_indices(row):\n",
    "    \n",
    "    # Sentence string to be returned.\n",
    "    result_string = \"\"\n",
    "    # A list of (start, end, label) of each word/token.\n",
    "    labl_index_lst = []\n",
    "    \n",
    "    current_index = 0\n",
    "\n",
    "    for word, label in zip(row.tokens, row.label_lst):\n",
    "        if result_string:\n",
    "            result_string += \" \"\n",
    "            current_index += 1\n",
    "\n",
    "        start_index = current_index\n",
    "        result_string += word\n",
    "        end_index = current_index + len(word) - 1\n",
    "        \n",
    "        # We don't need 'Other' label category for Spacy training.\n",
    "        if label != 'O':\n",
    "            labl_index_lst.append((start_index, end_index+1, label))\n",
    "            \n",
    "        current_index = end_index + 1\n",
    "        \n",
    "    # Return the combined sentence string and label index lst\n",
    "    return result_string, labl_index_lst\n",
    "\n",
    "\n",
    "# Method to create {'text': \"given text\", 'entities': [List of entities]} \n",
    "#  from 'text' and 'entities' column of each row of dataframe, and append it to a data list.\n",
    "def build_data(row, data):\n",
    "    temp_dict =  {}\n",
    "    \n",
    "    temp_dict['text'] = row['text']\n",
    "    temp_dict['entities'] = row['entities']\n",
    "    \n",
    "    if len(temp_dict['entities']) != 0:\n",
    "        data.append(temp_dict)\n",
    "\n",
    "        \n",
    "# Method to convert a given arrow dataset \n",
    "#  to a list of dict {'text': \"given text\", 'entities': [List of entities]} needed for Spacy\n",
    "def convert_arrow_to_spacy(arrow_ds):\n",
    "    \n",
    "    ret_data = []\n",
    "    \n",
    "    ### convert from Huggingface dataset to Pandas DF\n",
    "    #https://stackoverflow.com/questions/71102654/huggingface-datasets-convert-a-dataset-to-pandas-and-then-convert-it-back\n",
    "    df = arrow_ds.to_pandas()\n",
    "    \n",
    "    df['label_lst'] = df['ner_tags'].apply(give_ner_labels)\n",
    "    df = df[['tokens','label_lst']]\n",
    "\n",
    "    df2 = df.copy()\n",
    "    df2[['text', 'entities']] = df2.apply(join_and_track_indices, axis=1, \\\n",
    "                                                        result_type = 'expand')\n",
    "    df2 = df2[[\"text\", \"entities\"]]\n",
    "\n",
    "    df2.apply(lambda row: build_data(row, ret_data), axis=1)\n",
    "    return ret_data\n",
    "\n",
    "\n",
    "training_data =  convert_arrow_to_spacy(blurb['train'])\n",
    "validation_data =  convert_arrow_to_spacy(blurb['validation'])\n",
    "test_data = convert_arrow_to_spacy(blurb['test'])"
   ]
  },
  {
   "cell_type": "markdown",
   "id": "663d08e4",
   "metadata": {},
   "source": [
    "#### Check the sanity of prepared data samples"
   ]
  },
  {
   "cell_type": "code",
   "execution_count": 13,
   "id": "1282ddea",
   "metadata": {},
   "outputs": [
    {
     "data": {
      "text/plain": [
       "[{'text': 'IL-2 gene expression and NF-kappa B activation through CD28 requires reactive oxygen production by 5-lipoxygenase .',\n",
       "  'entities': [(0, 4, 'B-DNA'),\n",
       "   (5, 9, 'I-DNA'),\n",
       "   (25, 33, 'B-protein'),\n",
       "   (34, 35, 'I-protein'),\n",
       "   (55, 59, 'B-protein'),\n",
       "   (99, 113, 'B-protein')]},\n",
       " {'text': 'Activation of the CD28 surface receptor provides a major costimulatory signal for T cell activation resulting in enhanced production of interleukin-2 ( IL-2 ) and cell proliferation .',\n",
       "  'entities': [(18, 22, 'B-protein'),\n",
       "   (23, 30, 'I-protein'),\n",
       "   (31, 39, 'I-protein'),\n",
       "   (136, 149, 'B-protein'),\n",
       "   (152, 156, 'B-protein')]},\n",
       " {'text': 'In primary T lymphocytes we show that CD28 ligation leads to the rapid intracellular formation of reactive oxygen intermediates ( ROIs ) which are required for CD28 -mediated activation of the NF-kappa B / CD28-responsive complex and IL-2 expression .',\n",
       "  'entities': [(3, 10, 'B-cell_type'),\n",
       "   (11, 12, 'I-cell_type'),\n",
       "   (13, 24, 'I-cell_type'),\n",
       "   (38, 42, 'B-protein'),\n",
       "   (160, 164, 'B-protein'),\n",
       "   (193, 201, 'B-protein'),\n",
       "   (202, 203, 'I-protein'),\n",
       "   (206, 221, 'B-protein'),\n",
       "   (222, 229, 'I-protein'),\n",
       "   (234, 238, 'B-protein')]}]"
      ]
     },
     "execution_count": 13,
     "metadata": {},
     "output_type": "execute_result"
    }
   ],
   "source": [
    "training_data[0:3]"
   ]
  },
  {
   "cell_type": "code",
   "execution_count": 14,
   "id": "075a2ef5",
   "metadata": {},
   "outputs": [
    {
     "data": {
      "text/plain": [
       "[{'text': \"Disruption of the human SCL locus by `` illegitimate '' V- ( D ) -J recombinase activity .\",\n",
       "  'entities': [(18, 23, 'B-DNA'), (24, 27, 'I-DNA'), (28, 33, 'I-DNA')]},\n",
       " {'text': 'A fusion complementary DNA in the T cell line HSB-2 elucidates a provocative mechanism for the disruption of the putative hematopoietic transcription factor SCL .',\n",
       "  'entities': [(2, 8, 'B-DNA'),\n",
       "   (9, 22, 'I-DNA'),\n",
       "   (23, 26, 'I-DNA'),\n",
       "   (34, 35, 'B-cell_line'),\n",
       "   (36, 40, 'I-cell_line'),\n",
       "   (41, 45, 'I-cell_line'),\n",
       "   (46, 51, 'I-cell_line'),\n",
       "   (122, 135, 'B-protein'),\n",
       "   (136, 149, 'I-protein'),\n",
       "   (150, 156, 'I-protein'),\n",
       "   (157, 160, 'B-protein')]},\n",
       " {'text': \"The fusion cDNA results from an interstitial deletion between a previously unknown locus , SIL ( SCL interrupting locus ) , and the 5 ' untranslated region of SCL .\",\n",
       "  'entities': [(4, 10, 'B-DNA'),\n",
       "   (11, 15, 'I-DNA'),\n",
       "   (75, 82, 'B-DNA'),\n",
       "   (83, 88, 'I-DNA'),\n",
       "   (91, 94, 'B-DNA'),\n",
       "   (97, 100, 'B-DNA'),\n",
       "   (101, 113, 'I-DNA'),\n",
       "   (114, 119, 'I-DNA'),\n",
       "   (132, 133, 'B-DNA'),\n",
       "   (134, 135, 'I-DNA'),\n",
       "   (136, 148, 'I-DNA'),\n",
       "   (149, 155, 'I-DNA'),\n",
       "   (159, 162, 'B-protein')]}]"
      ]
     },
     "execution_count": 14,
     "metadata": {},
     "output_type": "execute_result"
    }
   ],
   "source": [
    "validation_data[0:3]"
   ]
  },
  {
   "cell_type": "code",
   "execution_count": 15,
   "id": "96e87683",
   "metadata": {},
   "outputs": [
    {
     "data": {
      "text/plain": [
       "[{'text': 'Number of glucocorticoid receptors in lymphocytes and their sensitivity to hormone action .',\n",
       "  'entities': [(10, 24, 'B-protein'),\n",
       "   (25, 34, 'I-protein'),\n",
       "   (38, 49, 'B-cell_type')]},\n",
       " {'text': 'The study demonstrated a decreased level of glucocorticoid receptors ( GR ) in peripheral blood lymphocytes from hypercholesterolemic subjects , and an elevated level in patients with acute myocardial infarction .',\n",
       "  'entities': [(44, 58, 'B-protein'),\n",
       "   (59, 68, 'I-protein'),\n",
       "   (71, 73, 'B-protein'),\n",
       "   (79, 89, 'B-cell_type'),\n",
       "   (90, 95, 'I-cell_type'),\n",
       "   (96, 107, 'I-cell_type')]},\n",
       " {'text': 'In the lymphocytes with a high GR number , dexamethasone inhibited [ 3H ] -thymidine and [ 3H ] -acetate incorporation into DNA and cholesterol , respectively , in the same manner as in the control cells .',\n",
       "  'entities': [(7, 18, 'B-cell_type'),\n",
       "   (31, 33, 'B-protein'),\n",
       "   (190, 197, 'B-cell_type'),\n",
       "   (198, 203, 'I-cell_type')]}]"
      ]
     },
     "execution_count": 15,
     "metadata": {},
     "output_type": "execute_result"
    }
   ],
   "source": [
    "test_data[0:3]"
   ]
  },
  {
   "cell_type": "code",
   "execution_count": 16,
   "id": "24202d33",
   "metadata": {},
   "outputs": [
    {
     "data": {
      "text/plain": [
       "{'text': 'The study demonstrated a decreased level of glucocorticoid receptors ( GR ) in peripheral blood lymphocytes from hypercholesterolemic subjects , and an elevated level in patients with acute myocardial infarction .',\n",
       " 'entities': [(44, 58, 'B-protein'),\n",
       "  (59, 68, 'I-protein'),\n",
       "  (71, 73, 'B-protein'),\n",
       "  (79, 89, 'B-cell_type'),\n",
       "  (90, 95, 'I-cell_type'),\n",
       "  (96, 107, 'I-cell_type')]}"
      ]
     },
     "execution_count": 16,
     "metadata": {},
     "output_type": "execute_result"
    }
   ],
   "source": [
    "test_data[1]"
   ]
  },
  {
   "cell_type": "code",
   "execution_count": 17,
   "id": "709414b5",
   "metadata": {},
   "outputs": [
    {
     "name": "stdout",
     "output_type": "stream",
     "text": [
      "glucocorticoid receptors\n",
      "peripheral blood lymphocytes\n"
     ]
    }
   ],
   "source": [
    "print(test_data[1]['text'][44:58], test_data[1]['text'][59:68])\n",
    "print(test_data[1]['text'][79:89], test_data[1]['text'][90:95], test_data[1]['text'][96:107])"
   ]
  },
  {
   "cell_type": "code",
   "execution_count": null,
   "id": "13cd70fb",
   "metadata": {},
   "outputs": [],
   "source": []
  },
  {
   "cell_type": "markdown",
   "id": "798ae17b",
   "metadata": {},
   "source": [
    "### Example to understand spacy.tokens.doc.Doc and spacy.tokens.span.Span"
   ]
  },
  {
   "cell_type": "code",
   "execution_count": 19,
   "id": "c34fc26d",
   "metadata": {
    "collapsed": true
   },
   "outputs": [
    {
     "name": "stdout",
     "output_type": "stream",
     "text": [
      "Collecting en-core-web-sm==3.7.1\n",
      "  Downloading https://github.com/explosion/spacy-models/releases/download/en_core_web_sm-3.7.1/en_core_web_sm-3.7.1-py3-none-any.whl (12.8 MB)\n",
      "     --------------------------------------- 12.8/12.8 MB 13.3 MB/s eta 0:00:00\n",
      "Requirement already satisfied: spacy<3.8.0,>=3.7.2 in c:\\users\\rajar\\anaconda3\\lib\\site-packages (from en-core-web-sm==3.7.1) (3.7.4)\n",
      "Requirement already satisfied: spacy-legacy<3.1.0,>=3.0.11 in c:\\users\\rajar\\anaconda3\\lib\\site-packages (from spacy<3.8.0,>=3.7.2->en-core-web-sm==3.7.1) (3.0.12)\n",
      "Requirement already satisfied: spacy-loggers<2.0.0,>=1.0.0 in c:\\users\\rajar\\anaconda3\\lib\\site-packages (from spacy<3.8.0,>=3.7.2->en-core-web-sm==3.7.1) (1.0.5)\n",
      "Requirement already satisfied: murmurhash<1.1.0,>=0.28.0 in c:\\users\\rajar\\anaconda3\\lib\\site-packages (from spacy<3.8.0,>=3.7.2->en-core-web-sm==3.7.1) (1.0.10)\n",
      "Requirement already satisfied: cymem<2.1.0,>=2.0.2 in c:\\users\\rajar\\anaconda3\\lib\\site-packages (from spacy<3.8.0,>=3.7.2->en-core-web-sm==3.7.1) (2.0.8)\n",
      "Requirement already satisfied: preshed<3.1.0,>=3.0.2 in c:\\users\\rajar\\anaconda3\\lib\\site-packages (from spacy<3.8.0,>=3.7.2->en-core-web-sm==3.7.1) (3.0.9)"
     ]
    },
    {
     "name": "stderr",
     "output_type": "stream",
     "text": [
      "\n",
      "[notice] A new release of pip is available: 23.3.1 -> 24.2\n",
      "[notice] To update, run: python.exe -m pip install --upgrade pip\n"
     ]
    },
    {
     "name": "stdout",
     "output_type": "stream",
     "text": [
      "\n",
      "Requirement already satisfied: thinc<8.3.0,>=8.2.2 in c:\\users\\rajar\\anaconda3\\lib\\site-packages (from spacy<3.8.0,>=3.7.2->en-core-web-sm==3.7.1) (8.2.3)\n",
      "Requirement already satisfied: wasabi<1.2.0,>=0.9.1 in c:\\users\\rajar\\anaconda3\\lib\\site-packages (from spacy<3.8.0,>=3.7.2->en-core-web-sm==3.7.1) (1.1.2)\n",
      "Requirement already satisfied: srsly<3.0.0,>=2.4.3 in c:\\users\\rajar\\anaconda3\\lib\\site-packages (from spacy<3.8.0,>=3.7.2->en-core-web-sm==3.7.1) (2.4.8)\n",
      "Requirement already satisfied: catalogue<2.1.0,>=2.0.6 in c:\\users\\rajar\\anaconda3\\lib\\site-packages (from spacy<3.8.0,>=3.7.2->en-core-web-sm==3.7.1) (2.0.10)\n",
      "Requirement already satisfied: weasel<0.4.0,>=0.1.0 in c:\\users\\rajar\\anaconda3\\lib\\site-packages (from spacy<3.8.0,>=3.7.2->en-core-web-sm==3.7.1) (0.3.4)\n",
      "Requirement already satisfied: typer<0.10.0,>=0.3.0 in c:\\users\\rajar\\anaconda3\\lib\\site-packages (from spacy<3.8.0,>=3.7.2->en-core-web-sm==3.7.1) (0.7.0)\n",
      "Requirement already satisfied: smart-open<7.0.0,>=5.2.1 in c:\\users\\rajar\\anaconda3\\lib\\site-packages (from spacy<3.8.0,>=3.7.2->en-core-web-sm==3.7.1) (6.4.0)\n",
      "Requirement already satisfied: tqdm<5.0.0,>=4.38.0 in c:\\users\\rajar\\anaconda3\\lib\\site-packages (from spacy<3.8.0,>=3.7.2->en-core-web-sm==3.7.1) (4.66.1)\n",
      "Requirement already satisfied: requests<3.0.0,>=2.13.0 in c:\\users\\rajar\\anaconda3\\lib\\site-packages (from spacy<3.8.0,>=3.7.2->en-core-web-sm==3.7.1) (2.31.0)\n",
      "Requirement already satisfied: pydantic!=1.8,!=1.8.1,<3.0.0,>=1.7.4 in c:\\users\\rajar\\anaconda3\\lib\\site-packages (from spacy<3.8.0,>=3.7.2->en-core-web-sm==3.7.1) (2.6.1)\n",
      "Requirement already satisfied: jinja2 in c:\\users\\rajar\\anaconda3\\lib\\site-packages (from spacy<3.8.0,>=3.7.2->en-core-web-sm==3.7.1) (2.11.3)\n",
      "Requirement already satisfied: setuptools in c:\\users\\rajar\\anaconda3\\lib\\site-packages (from spacy<3.8.0,>=3.7.2->en-core-web-sm==3.7.1) (52.0.0.post20210125)\n",
      "Requirement already satisfied: packaging>=20.0 in c:\\users\\rajar\\anaconda3\\lib\\site-packages (from spacy<3.8.0,>=3.7.2->en-core-web-sm==3.7.1) (23.2)\n",
      "Requirement already satisfied: langcodes<4.0.0,>=3.2.0 in c:\\users\\rajar\\anaconda3\\lib\\site-packages (from spacy<3.8.0,>=3.7.2->en-core-web-sm==3.7.1) (3.3.0)\n",
      "Requirement already satisfied: numpy>=1.15.0 in c:\\users\\rajar\\appdata\\roaming\\python\\python38\\site-packages (from spacy<3.8.0,>=3.7.2->en-core-web-sm==3.7.1) (1.24.4)\n",
      "Requirement already satisfied: annotated-types>=0.4.0 in c:\\users\\rajar\\anaconda3\\lib\\site-packages (from pydantic!=1.8,!=1.8.1,<3.0.0,>=1.7.4->spacy<3.8.0,>=3.7.2->en-core-web-sm==3.7.1) (0.6.0)\n",
      "Requirement already satisfied: pydantic-core==2.16.2 in c:\\users\\rajar\\anaconda3\\lib\\site-packages (from pydantic!=1.8,!=1.8.1,<3.0.0,>=1.7.4->spacy<3.8.0,>=3.7.2->en-core-web-sm==3.7.1) (2.16.2)\n",
      "Requirement already satisfied: typing-extensions>=4.6.1 in c:\\users\\rajar\\anaconda3\\lib\\site-packages (from pydantic!=1.8,!=1.8.1,<3.0.0,>=1.7.4->spacy<3.8.0,>=3.7.2->en-core-web-sm==3.7.1) (4.11.0)\n",
      "Requirement already satisfied: charset-normalizer<4,>=2 in c:\\users\\rajar\\anaconda3\\lib\\site-packages (from requests<3.0.0,>=2.13.0->spacy<3.8.0,>=3.7.2->en-core-web-sm==3.7.1) (3.3.2)\n",
      "Requirement already satisfied: idna<4,>=2.5 in c:\\users\\rajar\\anaconda3\\lib\\site-packages (from requests<3.0.0,>=2.13.0->spacy<3.8.0,>=3.7.2->en-core-web-sm==3.7.1) (3.7)\n",
      "Requirement already satisfied: urllib3<3,>=1.21.1 in c:\\users\\rajar\\anaconda3\\lib\\site-packages (from requests<3.0.0,>=2.13.0->spacy<3.8.0,>=3.7.2->en-core-web-sm==3.7.1) (1.26.18)\n",
      "Requirement already satisfied: certifi>=2017.4.17 in c:\\users\\rajar\\anaconda3\\lib\\site-packages (from requests<3.0.0,>=2.13.0->spacy<3.8.0,>=3.7.2->en-core-web-sm==3.7.1) (2024.2.2)\n",
      "Requirement already satisfied: blis<0.8.0,>=0.7.8 in c:\\users\\rajar\\anaconda3\\lib\\site-packages (from thinc<8.3.0,>=8.2.2->spacy<3.8.0,>=3.7.2->en-core-web-sm==3.7.1) (0.7.11)\n",
      "Requirement already satisfied: confection<1.0.0,>=0.0.1 in c:\\users\\rajar\\anaconda3\\lib\\site-packages (from thinc<8.3.0,>=8.2.2->spacy<3.8.0,>=3.7.2->en-core-web-sm==3.7.1) (0.1.4)\n",
      "Requirement already satisfied: colorama in c:\\users\\rajar\\anaconda3\\lib\\site-packages (from tqdm<5.0.0,>=4.38.0->spacy<3.8.0,>=3.7.2->en-core-web-sm==3.7.1) (0.4.6)\n",
      "Requirement already satisfied: click<9.0.0,>=7.1.1 in c:\\users\\rajar\\anaconda3\\lib\\site-packages (from typer<0.10.0,>=0.3.0->spacy<3.8.0,>=3.7.2->en-core-web-sm==3.7.1) (8.0.1)\n",
      "Requirement already satisfied: cloudpathlib<0.17.0,>=0.7.0 in c:\\users\\rajar\\anaconda3\\lib\\site-packages (from weasel<0.4.0,>=0.1.0->spacy<3.8.0,>=3.7.2->en-core-web-sm==3.7.1) (0.16.0)\n",
      "Requirement already satisfied: MarkupSafe>=0.23 in c:\\users\\rajar\\anaconda3\\lib\\site-packages (from jinja2->spacy<3.8.0,>=3.7.2->en-core-web-sm==3.7.1) (2.0.1)\n",
      "Installing collected packages: en-core-web-sm\n",
      "Successfully installed en-core-web-sm-3.7.1\n",
      "\u001b[38;5;2m[+] Download and installation successful\u001b[0m\n",
      "You can now load the package via spacy.load('en_core_web_sm')\n"
     ]
    }
   ],
   "source": [
    "# This downloads Spacy model to Users-><username>->anaconda3->Lib->site-packages\n",
    "!python -m spacy download en_core_web_sm"
   ]
  },
  {
   "cell_type": "code",
   "execution_count": 20,
   "id": "35e4ec50",
   "metadata": {
    "collapsed": true
   },
   "outputs": [
    {
     "name": "stderr",
     "output_type": "stream",
     "text": [
      "C:\\Users\\rajar\\anaconda3\\lib\\site-packages\\transformers\\utils\\generic.py:441: FutureWarning: `torch.utils._pytree._register_pytree_node` is deprecated. Please use `torch.utils._pytree.register_pytree_node` instead.\n",
      "  _torch_pytree._register_pytree_node(\n",
      "C:\\Users\\rajar\\anaconda3\\lib\\site-packages\\transformers\\utils\\generic.py:309: FutureWarning: `torch.utils._pytree._register_pytree_node` is deprecated. Please use `torch.utils._pytree.register_pytree_node` instead.\n",
      "  _torch_pytree._register_pytree_node(\n"
     ]
    },
    {
     "data": {
      "text/plain": [
       "<spacy.lang.en.English at 0x238bf1a9430>"
      ]
     },
     "execution_count": 20,
     "metadata": {},
     "output_type": "execute_result"
    }
   ],
   "source": [
    "nlp = spacy.load(\"en_core_web_sm\")\n",
    "nlp"
   ]
  },
  {
   "cell_type": "code",
   "execution_count": 21,
   "id": "8044c1c3",
   "metadata": {},
   "outputs": [],
   "source": [
    "# Pass a text to the spacy model to get a 'doc' type object.\n",
    "doc = nlp(\"Donad Trump was President of USA\")"
   ]
  },
  {
   "cell_type": "code",
   "execution_count": 22,
   "id": "8d2229dd",
   "metadata": {},
   "outputs": [
    {
     "data": {
      "text/plain": [
       "spacy.tokens.doc.Doc"
      ]
     },
     "execution_count": 22,
     "metadata": {},
     "output_type": "execute_result"
    }
   ],
   "source": [
    "type(doc)"
   ]
  },
  {
   "cell_type": "code",
   "execution_count": 29,
   "id": "12a747cf",
   "metadata": {},
   "outputs": [
    {
     "data": {
      "text/plain": [
       "(Donad Trump, USA)"
      ]
     },
     "execution_count": 29,
     "metadata": {},
     "output_type": "execute_result"
    }
   ],
   "source": [
    "doc.ents"
   ]
  },
  {
   "cell_type": "code",
   "execution_count": 37,
   "id": "ee9d11a6",
   "metadata": {},
   "outputs": [
    {
     "name": "stdout",
     "output_type": "stream",
     "text": [
      "Donad Trump\n",
      "<class 'spacy.tokens.span.Span'>\n",
      "0 11 PERSON\n",
      "\n",
      "USA\n",
      "<class 'spacy.tokens.span.Span'>\n",
      "29 32 GPE\n",
      "\n"
     ]
    }
   ],
   "source": [
    "for entity in doc.ents:\n",
    "    print(entity)\n",
    "    print(type(entity))\n",
    "    print(entity.start_char, entity.end_char, entity.label_)\n",
    "    print()"
   ]
  },
  {
   "cell_type": "code",
   "execution_count": 35,
   "id": "40d0ce44",
   "metadata": {},
   "outputs": [
    {
     "data": {
      "text/html": [
       "<span class=\"tex2jax_ignore\"><div class=\"entities\" style=\"line-height: 2.5; direction: ltr\">\n",
       "<mark class=\"entity\" style=\"background: #aa9cfc; padding: 0.45em 0.6em; margin: 0 0.25em; line-height: 1; border-radius: 0.35em;\">\n",
       "    Donad Trump\n",
       "    <span style=\"font-size: 0.8em; font-weight: bold; line-height: 1; border-radius: 0.35em; vertical-align: middle; margin-left: 0.5rem\">PERSON</span>\n",
       "</mark>\n",
       " was President of \n",
       "<mark class=\"entity\" style=\"background: #feca74; padding: 0.45em 0.6em; margin: 0 0.25em; line-height: 1; border-radius: 0.35em;\">\n",
       "    USA\n",
       "    <span style=\"font-size: 0.8em; font-weight: bold; line-height: 1; border-radius: 0.35em; vertical-align: middle; margin-left: 0.5rem\">GPE</span>\n",
       "</mark>\n",
       "</div></span>"
      ],
      "text/plain": [
       "<IPython.core.display.HTML object>"
      ]
     },
     "metadata": {},
     "output_type": "display_data"
    }
   ],
   "source": [
    "from spacy import displacy\n",
    "displacy.render(doc, style=\"ent\", jupyter=True)"
   ]
  },
  {
   "cell_type": "markdown",
   "id": "5e2d4dff",
   "metadata": {},
   "source": [
    "#### How we can convert our text examples to Spacy Doc format with entities as Spacy Span"
   ]
  },
  {
   "cell_type": "code",
   "execution_count": 44,
   "id": "0aa88d14",
   "metadata": {},
   "outputs": [
    {
     "data": {
      "text/plain": [
       "{'text': 'IL-2 gene expression and NF-kappa B activation through CD28 requires reactive oxygen production by 5-lipoxygenase .',\n",
       " 'entities': [(0, 4, 'B-DNA'),\n",
       "  (5, 9, 'I-DNA'),\n",
       "  (25, 33, 'B-protein'),\n",
       "  (34, 35, 'I-protein'),\n",
       "  (55, 59, 'B-protein'),\n",
       "  (99, 113, 'B-protein')]}"
      ]
     },
     "execution_count": 44,
     "metadata": {},
     "output_type": "execute_result"
    }
   ],
   "source": [
    "training_data[0]"
   ]
  },
  {
   "cell_type": "code",
   "execution_count": 45,
   "id": "ec06fd66",
   "metadata": {},
   "outputs": [],
   "source": [
    "from spacy.util import filter_spans\n",
    "\n",
    "example = training_data[0]\n",
    "text = example['text']\n",
    "labels = example['entities']\n",
    "\n",
    "nlp = spacy.blank(\"en\") # load a new spacy model\n",
    "doc = nlp.make_doc(text) \n",
    "ents = []\n",
    "    \n",
    "for start, end, label in labels:\n",
    "    span = doc.char_span(start, end, label=label, alignment_mode=\"contract\")\n",
    "        \n",
    "    if span is None:\n",
    "        #print(\"Skipping entity {} {} {}\".format(text, start, label))\n",
    "        print(\"Skipping entity\")\n",
    "    else:\n",
    "        ents.append(span)\n",
    "    \n",
    "#There are some entity span overlaps, i.e., the indices of some entities overlap. \n",
    "#spaCy provides a utility method filter_spans to deal with this.\n",
    "filtered_ents = filter_spans(ents)\n",
    "doc.ents = filtered_ents         "
   ]
  },
  {
   "cell_type": "code",
   "execution_count": 46,
   "id": "067a47f6",
   "metadata": {},
   "outputs": [
    {
     "data": {
      "text/plain": [
       "IL-2 gene expression and NF-kappa B activation through CD28 requires reactive oxygen production by 5-lipoxygenase ."
      ]
     },
     "execution_count": 46,
     "metadata": {},
     "output_type": "execute_result"
    }
   ],
   "source": [
    "doc"
   ]
  },
  {
   "cell_type": "code",
   "execution_count": 47,
   "id": "c0490b8d",
   "metadata": {},
   "outputs": [
    {
     "data": {
      "text/plain": [
       "spacy.tokens.doc.Doc"
      ]
     },
     "execution_count": 47,
     "metadata": {},
     "output_type": "execute_result"
    }
   ],
   "source": [
    "type(doc)"
   ]
  },
  {
   "cell_type": "code",
   "execution_count": 48,
   "id": "49ab068e",
   "metadata": {},
   "outputs": [
    {
     "name": "stdout",
     "output_type": "stream",
     "text": [
      "IL-2\n",
      "<class 'spacy.tokens.span.Span'>\n",
      "0 4 B-DNA\n",
      "\n",
      "gene\n",
      "<class 'spacy.tokens.span.Span'>\n",
      "5 9 I-DNA\n",
      "\n",
      "NF-kappa\n",
      "<class 'spacy.tokens.span.Span'>\n",
      "25 33 B-protein\n",
      "\n",
      "B\n",
      "<class 'spacy.tokens.span.Span'>\n",
      "34 35 I-protein\n",
      "\n",
      "CD28\n",
      "<class 'spacy.tokens.span.Span'>\n",
      "55 59 B-protein\n",
      "\n",
      "5-lipoxygenase\n",
      "<class 'spacy.tokens.span.Span'>\n",
      "99 113 B-protein\n",
      "\n"
     ]
    }
   ],
   "source": [
    "for entity in doc.ents:\n",
    "    print(entity)\n",
    "    print(type(entity))\n",
    "    print(entity.start_char, entity.end_char, entity.label_)\n",
    "    print()"
   ]
  },
  {
   "cell_type": "code",
   "execution_count": null,
   "id": "09c4633c",
   "metadata": {},
   "outputs": [],
   "source": []
  },
  {
   "cell_type": "markdown",
   "id": "2ee114d8",
   "metadata": {},
   "source": [
    "### Convert the whole training_data to Spacy Doc format and store them in a DocBin that Spacy needs to train"
   ]
  },
  {
   "cell_type": "code",
   "execution_count": 49,
   "id": "1a060d12",
   "metadata": {},
   "outputs": [],
   "source": [
    "# Convert the training_data to DocBin format that Spacy needs to train\n",
    "from spacy.tokens import DocBin\n",
    "\n",
    "#Tqdm is a popular Python library that provides a simple and convenient way to add \n",
    "# progress bars to loops and iterable objects\n",
    "from tqdm import tqdm\n",
    "\n",
    "nlp = spacy.blank(\"en\") # load a new spacy model\n",
    "train_doc_bin = DocBin()\n",
    "valid_doc_bin = DocBin()"
   ]
  },
  {
   "cell_type": "code",
   "execution_count": 50,
   "id": "e340054a",
   "metadata": {},
   "outputs": [
    {
     "name": "stderr",
     "output_type": "stream",
     "text": [
      "100%|██████████| 15150/15150 [00:03<00:00, 4476.97it/s]\n",
      "100%|██████████| 1514/1514 [00:00<00:00, 4658.32it/s]\n"
     ]
    }
   ],
   "source": [
    "from spacy.util import filter_spans\n",
    "\n",
    "# doc_bin\n",
    "#   doc\n",
    "#     entities\n",
    "#       span\n",
    "\n",
    "def build_doc_bin(data, doc_bin):\n",
    "    for example in tqdm(data): \n",
    "        text = example['text']\n",
    "        labels = example['entities']\n",
    "        doc = nlp.make_doc(text) \n",
    "        ents = []\n",
    "    \n",
    "        for start, end, label in labels:\n",
    "        \n",
    "            span = doc.char_span(start, end, label=label, alignment_mode=\"contract\")\n",
    "        \n",
    "            if span is None:\n",
    "                #print(\"Skipping entity {} {} {}\".format(text, start, label))\n",
    "                print(\"Skipping entity\")\n",
    "            else:\n",
    "                ents.append(span)\n",
    "    \n",
    "        #There are some entity span overlaps, i.e., the indices of some entities overlap. \n",
    "        #spaCy provides a utility method filter_spans to deal with this.\n",
    "\n",
    "        filtered_ents = filter_spans(ents)\n",
    "        #print(filtered_ents)\n",
    "        doc.ents = filtered_ents \n",
    "        doc_bin.add(doc)\n",
    "    \n",
    "build_doc_bin(training_data, train_doc_bin)\n",
    "build_doc_bin(validation_data, valid_doc_bin)\n",
    "\n",
    "# Save the training and validation doc_bins locally as spacy files\n",
    "train_doc_bin.to_disk(\"train.spacy\") \n",
    "valid_doc_bin.to_disk(\"validation.spacy\") "
   ]
  },
  {
   "cell_type": "raw",
   "id": "6a68be23",
   "metadata": {},
   "source": []
  },
  {
   "cell_type": "markdown",
   "id": "9568b73f",
   "metadata": {},
   "source": [
    "### Fine-tune Spacy Model"
   ]
  },
  {
   "cell_type": "markdown",
   "id": "015434a3",
   "metadata": {},
   "source": [
    "#### Prepare the config file for model training"
   ]
  },
  {
   "cell_type": "code",
   "execution_count": 17,
   "id": "20f76fbc",
   "metadata": {},
   "outputs": [
    {
     "name": "stdout",
     "output_type": "stream",
     "text": [
      "\u001b[38;5;4m[i] Generated config template specific for your use case\u001b[0m\n",
      "- Language: en\n",
      "- Pipeline: ner\n",
      "- Optimize for: efficiency\n",
      "- Hardware: CPU\n",
      "- Transformer: None\n",
      "\u001b[38;5;2m[+] Auto-filled config with all values\u001b[0m\n",
      "\u001b[38;5;2m[+] Saved config\u001b[0m\n",
      "config.cfg\n",
      "You can now add your data and train your pipeline:\n",
      "python -m spacy train config.cfg --paths.train ./train.spacy --paths.dev ./dev.spacy\n"
     ]
    },
    {
     "name": "stderr",
     "output_type": "stream",
     "text": [
      "C:\\Users\\rajar\\anaconda3\\lib\\site-packages\\transformers\\utils\\generic.py:441: FutureWarning: `torch.utils._pytree._register_pytree_node` is deprecated. Please use `torch.utils._pytree.register_pytree_node` instead.\n",
      "  _torch_pytree._register_pytree_node(\n",
      "C:\\Users\\rajar\\anaconda3\\lib\\site-packages\\transformers\\utils\\generic.py:309: FutureWarning: `torch.utils._pytree._register_pytree_node` is deprecated. Please use `torch.utils._pytree.register_pytree_node` instead.\n",
      "  _torch_pytree._register_pytree_node(\n"
     ]
    }
   ],
   "source": [
    "# Pradip's method\n",
    "\n",
    "# 1. Go here, select \"ner\", accuracy\" (model will be larger and slower) and create base_config.cfg \n",
    "# https://spacy.io/usage/training#quickstart\n",
    "\n",
    "# 2. Then run this\n",
    "#!python -m spacy init fill-config base_config.cfg config.cfg\n",
    "\n",
    "# 3. Then Set batch_size=100, max_epochs = 10 in config.cfg to limit the number of epochs, \n",
    "#      otherwise it will run to full optimisation and will take long time.\n",
    "\n",
    "\n",
    "# CLI Alternate method -\n",
    "# https://www.kaggle.com/code/mohsinsial/training-medical-ner-using-spacy\n",
    "# https://www.youtube.com/watch?v=p_7hJvl7P2A&t=17s\n",
    "\n",
    "# Got better results with the below CLI method with optimize efficiency \n",
    "#     and batch_size = 100, max_epochs = 100 in config.cfg\n",
    "\n",
    "# 1. Run the below cli\n",
    "!python -m spacy init config config.cfg --lang en --pipeline ner --optimize efficiency --force\n",
    "#!python -m spacy init config config.cfg --lang en --pipeline ner --optimize accuracy --force\n",
    "\n",
    "# 2. Edit batch_size = 100, max_epochs = 100 in config.cfg\n"
   ]
  },
  {
   "cell_type": "markdown",
   "id": "ed2b1a39",
   "metadata": {},
   "source": [
    "#### Train the spacy model using training data and validation data"
   ]
  },
  {
   "cell_type": "code",
   "execution_count": 45,
   "id": "1e4ca8c7",
   "metadata": {},
   "outputs": [
    {
     "name": "stdout",
     "output_type": "stream",
     "text": [
      "\u001b[38;5;4m[i] Saving to output directory: .\u001b[0m\n",
      "\u001b[38;5;4m[i] Using CPU\u001b[0m\n",
      "\u001b[1m\n",
      "=========================== Initializing pipeline ===========================\u001b[0m\n",
      "\u001b[38;5;2m[+] Initialized pipeline\u001b[0m\n",
      "\u001b[1m\n",
      "============================= Training pipeline =============================\u001b[0m\n",
      "\u001b[38;5;4m[i] Pipeline: ['tok2vec', 'ner']\u001b[0m\n",
      "\u001b[38;5;4m[i] Initial learn rate: 0.001\u001b[0m\n",
      "E    #       LOSS TOK2VEC  LOSS NER  ENTS_F  ENTS_P  ENTS_R  SCORE \n",
      "---  ------  ------------  --------  ------  ------  ------  ------\n",
      "  0       0          0.00     49.43    0.32    0.85    0.20    0.00\n",
      "  0     200        342.11   5914.50   33.77   54.63   24.44    0.34\n",
      "  0     400        497.25   5073.36   60.28   64.59   56.51    0.60\n",
      "  0     600        453.30   5397.60   65.84   70.16   62.03    0.66\n",
      "  0     800        570.01   6046.21   67.75   69.99   65.65    0.68\n",
      "  0    1000        749.73   7634.96   70.12   72.27   68.11    0.70\n",
      "  0    1200        917.49   8494.01   71.06   72.02   70.12    0.71\n",
      "  0    1400       1123.18   9724.16   73.14   77.37   69.34    0.73\n",
      "  0    1600       1560.12  11486.37   75.86   77.30   74.48    0.76\n",
      "  1    1800       1961.66  13370.28   75.74   77.46   74.10    0.76\n",
      "  1    2000       2541.66  14235.68   75.82   75.69   75.94    0.76\n",
      "  1    2200       2885.21  16925.95   77.02   78.14   75.93    0.77\n",
      "  2    2400       4665.02  19554.94   77.72   78.24   77.20    0.78\n",
      "  2    2600       3664.10  17843.44   77.86   78.29   77.44    0.78\n",
      "  3    2800       3879.17  18287.65   77.89   77.53   78.26    0.78\n",
      "  3    3000       4265.42  17392.57   77.24   78.16   76.33    0.77\n",
      "  3    3200       4266.16  16590.21   77.90   78.13   77.67    0.78\n",
      "  4    3400       4176.23  15487.36   78.27   76.65   79.95    0.78\n",
      "  4    3600       4601.96  15982.62   78.38   75.81   81.13    0.78\n",
      "  5    3800       4444.49  14952.29   78.00   78.48   77.53    0.78\n",
      "  5    4000       4901.93  15046.06   78.30   76.76   79.90    0.78\n",
      "  6    4200       4731.27  14800.75   78.36   78.51   78.20    0.78\n",
      "  6    4400       4895.91  13779.37   77.18   75.82   78.59    0.77\n",
      "  6    4600       5017.68  14215.20   78.95   79.62   78.29    0.79\n",
      "  7    4800       4655.18  13120.34   78.29   77.86   78.74    0.78\n",
      "  7    5000       4800.03  13085.29   78.65   78.55   78.74    0.79\n",
      "  8    5200       4933.24  12623.60   78.26   77.12   79.44    0.78\n",
      "  8    5400       5280.85  12511.00   78.17   77.26   79.10    0.78\n",
      "  9    5600       5392.29  12991.22   78.52   78.65   78.40    0.79\n",
      "  9    5800       4943.73  11852.50   77.89   76.06   79.81    0.78\n",
      "  9    6000       5356.48  12344.91   77.84   78.52   77.17    0.78\n",
      " 10    6200       5360.94  11607.51   78.13   78.26   78.00    0.78\n",
      "\u001b[38;5;2m[+] Saved pipeline to output directory\u001b[0m\n",
      "model-last\n"
     ]
    },
    {
     "name": "stderr",
     "output_type": "stream",
     "text": [
      "C:\\Users\\rajar\\anaconda3\\lib\\site-packages\\transformers\\utils\\generic.py:441: FutureWarning: `torch.utils._pytree._register_pytree_node` is deprecated. Please use `torch.utils._pytree.register_pytree_node` instead.\n",
      "  _torch_pytree._register_pytree_node(\n",
      "C:\\Users\\rajar\\anaconda3\\lib\\site-packages\\transformers\\utils\\generic.py:309: FutureWarning: `torch.utils._pytree._register_pytree_node` is deprecated. Please use `torch.utils._pytree.register_pytree_node` instead.\n",
      "  _torch_pytree._register_pytree_node(\n"
     ]
    }
   ],
   "source": [
    "!python -m spacy train config.cfg --output ./ --paths.train ./train.spacy \\\n",
    "    --paths.dev ./validation.spacy"
   ]
  },
  {
   "cell_type": "code",
   "execution_count": 46,
   "id": "0dfed798",
   "metadata": {},
   "outputs": [],
   "source": [
    "# https://github.com/explosion/spaCy/discussions/11150\n",
    "# https://support.prodi.gy/t/which-hyperparameters-are-recommended-for-tuning-on-a-custom-spacy-ner-model/5803\n",
    "\n",
    "# Try with batch_size = 500 instead of 100 - No improvement\n",
    "# Try with droput = 0.3 instead of 0.1 - No improvement\n",
    "# Try with learn_rate = 0.005 instead of 0.001 - No improvement\n",
    "\n",
    "#!python -m spacy train config.cfg --output ./ --paths.train ./train.spacy \\\n",
    "#    --paths.dev ./validation.spacy"
   ]
  },
  {
   "cell_type": "code",
   "execution_count": null,
   "id": "49fa08b4",
   "metadata": {},
   "outputs": [],
   "source": []
  },
  {
   "cell_type": "markdown",
   "id": "17efcc8a",
   "metadata": {},
   "source": [
    "### Test the fine tuned model and evaluate metrics on test data"
   ]
  },
  {
   "cell_type": "markdown",
   "id": "3312eaff",
   "metadata": {},
   "source": [
    "#### Load the fine tuned model"
   ]
  },
  {
   "cell_type": "code",
   "execution_count": 47,
   "id": "13cdac80",
   "metadata": {},
   "outputs": [],
   "source": [
    "import spacy\n",
    "nlp_ner = spacy.load(\"model-best\")"
   ]
  },
  {
   "cell_type": "markdown",
   "id": "78f40964",
   "metadata": {},
   "source": [
    "#### Take few text samples from test dataset and predict the entities "
   ]
  },
  {
   "cell_type": "code",
   "execution_count": 48,
   "id": "cfc0dea8",
   "metadata": {},
   "outputs": [
    {
     "name": "stdout",
     "output_type": "stream",
     "text": [
      "Predicted Labels :\n"
     ]
    },
    {
     "data": {
      "text/html": [
       "<span class=\"tex2jax_ignore\"><div class=\"entities\" style=\"line-height: 2.5; direction: ltr\">Two \n",
       "<mark class=\"entity\" style=\"background: #ddd; padding: 0.45em 0.6em; margin: 0 0.25em; line-height: 1; border-radius: 0.35em;\">\n",
       "    nuclear\n",
       "    <span style=\"font-size: 0.8em; font-weight: bold; line-height: 1; border-radius: 0.35em; vertical-align: middle; margin-left: 0.5rem\">B-protein</span>\n",
       "</mark>\n",
       " \n",
       "<mark class=\"entity\" style=\"background: #ddd; padding: 0.45em 0.6em; margin: 0 0.25em; line-height: 1; border-radius: 0.35em;\">\n",
       "    proteins\n",
       "    <span style=\"font-size: 0.8em; font-weight: bold; line-height: 1; border-radius: 0.35em; vertical-align: middle; margin-left: 0.5rem\">I-protein</span>\n",
       "</mark>\n",
       " that bind specifically and with high affinity to the \n",
       "<mark class=\"entity\" style=\"background: #ddd; padding: 0.45em 0.6em; margin: 0 0.25em; line-height: 1; border-radius: 0.35em;\">\n",
       "    OCTA\n",
       "    <span style=\"font-size: 0.8em; font-weight: bold; line-height: 1; border-radius: 0.35em; vertical-align: middle; margin-left: 0.5rem\">B-DNA</span>\n",
       "</mark>\n",
       " \n",
       "<mark class=\"entity\" style=\"background: #ddd; padding: 0.45em 0.6em; margin: 0 0.25em; line-height: 1; border-radius: 0.35em;\">\n",
       "    element\n",
       "    <span style=\"font-size: 0.8em; font-weight: bold; line-height: 1; border-radius: 0.35em; vertical-align: middle; margin-left: 0.5rem\">I-DNA</span>\n",
       "</mark>\n",
       " have been identified .</div></span>"
      ],
      "text/plain": [
       "<IPython.core.display.HTML object>"
      ]
     },
     "metadata": {},
     "output_type": "display_data"
    },
    {
     "name": "stdout",
     "output_type": "stream",
     "text": [
      "True Labels :\n",
      "nuclear B-protein\n",
      "proteins I-protein\n",
      "OCTA B-DNA\n",
      "element I-DNA\n",
      "\n",
      "\n",
      "Predicted Labels :\n"
     ]
    },
    {
     "data": {
      "text/html": [
       "<span class=\"tex2jax_ignore\"><div class=\"entities\" style=\"line-height: 2.5; direction: ltr\">\n",
       "<mark class=\"entity\" style=\"background: #ddd; padding: 0.45em 0.6em; margin: 0 0.25em; line-height: 1; border-radius: 0.35em;\">\n",
       "    NF-A1\n",
       "    <span style=\"font-size: 0.8em; font-weight: bold; line-height: 1; border-radius: 0.35em; vertical-align: middle; margin-left: 0.5rem\">B-protein</span>\n",
       "</mark>\n",
       " is present in a variety of cell types , whereas the presence of \n",
       "<mark class=\"entity\" style=\"background: #ddd; padding: 0.45em 0.6em; margin: 0 0.25em; line-height: 1; border-radius: 0.35em;\">\n",
       "    NF-A2\n",
       "    <span style=\"font-size: 0.8em; font-weight: bold; line-height: 1; border-radius: 0.35em; vertical-align: middle; margin-left: 0.5rem\">B-protein</span>\n",
       "</mark>\n",
       " is essentially confined to \n",
       "<mark class=\"entity\" style=\"background: #ddd; padding: 0.45em 0.6em; margin: 0 0.25em; line-height: 1; border-radius: 0.35em;\">\n",
       "    B\n",
       "    <span style=\"font-size: 0.8em; font-weight: bold; line-height: 1; border-radius: 0.35em; vertical-align: middle; margin-left: 0.5rem\">B-cell_type</span>\n",
       "</mark>\n",
       " \n",
       "<mark class=\"entity\" style=\"background: #ddd; padding: 0.45em 0.6em; margin: 0 0.25em; line-height: 1; border-radius: 0.35em;\">\n",
       "    cells\n",
       "    <span style=\"font-size: 0.8em; font-weight: bold; line-height: 1; border-radius: 0.35em; vertical-align: middle; margin-left: 0.5rem\">I-cell_type</span>\n",
       "</mark>\n",
       " , leading to the hypothesis that \n",
       "<mark class=\"entity\" style=\"background: #ddd; padding: 0.45em 0.6em; margin: 0 0.25em; line-height: 1; border-radius: 0.35em;\">\n",
       "    NF-A2\n",
       "    <span style=\"font-size: 0.8em; font-weight: bold; line-height: 1; border-radius: 0.35em; vertical-align: middle; margin-left: 0.5rem\">B-protein</span>\n",
       "</mark>\n",
       " activates cell-type-specific transcription of the \n",
       "<mark class=\"entity\" style=\"background: #ddd; padding: 0.45em 0.6em; margin: 0 0.25em; line-height: 1; border-radius: 0.35em;\">\n",
       "    Ig\n",
       "    <span style=\"font-size: 0.8em; font-weight: bold; line-height: 1; border-radius: 0.35em; vertical-align: middle; margin-left: 0.5rem\">B-DNA</span>\n",
       "</mark>\n",
       " \n",
       "<mark class=\"entity\" style=\"background: #ddd; padding: 0.45em 0.6em; margin: 0 0.25em; line-height: 1; border-radius: 0.35em;\">\n",
       "    promoter\n",
       "    <span style=\"font-size: 0.8em; font-weight: bold; line-height: 1; border-radius: 0.35em; vertical-align: middle; margin-left: 0.5rem\">I-DNA</span>\n",
       "</mark>\n",
       " and \n",
       "<mark class=\"entity\" style=\"background: #ddd; padding: 0.45em 0.6em; margin: 0 0.25em; line-height: 1; border-radius: 0.35em;\">\n",
       "    NF-A1\n",
       "    <span style=\"font-size: 0.8em; font-weight: bold; line-height: 1; border-radius: 0.35em; vertical-align: middle; margin-left: 0.5rem\">B-protein</span>\n",
       "</mark>\n",
       " mediates the other responses of the \n",
       "<mark class=\"entity\" style=\"background: #ddd; padding: 0.45em 0.6em; margin: 0 0.25em; line-height: 1; border-radius: 0.35em;\">\n",
       "    OCTA\n",
       "    <span style=\"font-size: 0.8em; font-weight: bold; line-height: 1; border-radius: 0.35em; vertical-align: middle; margin-left: 0.5rem\">B-DNA</span>\n",
       "</mark>\n",
       " \n",
       "<mark class=\"entity\" style=\"background: #ddd; padding: 0.45em 0.6em; margin: 0 0.25em; line-height: 1; border-radius: 0.35em;\">\n",
       "    element\n",
       "    <span style=\"font-size: 0.8em; font-weight: bold; line-height: 1; border-radius: 0.35em; vertical-align: middle; margin-left: 0.5rem\">I-DNA</span>\n",
       "</mark>\n",
       " .</div></span>"
      ],
      "text/plain": [
       "<IPython.core.display.HTML object>"
      ]
     },
     "metadata": {},
     "output_type": "display_data"
    },
    {
     "name": "stdout",
     "output_type": "stream",
     "text": [
      "True Labels :\n",
      "NF-A1 B-protein\n",
      "NF-A2 B-protein\n",
      "B B-cell_type\n",
      "cells I-cell_type\n",
      "NF-A2 B-protein\n",
      "Ig B-DNA\n",
      "promoter I-DNA\n",
      "NF-A1 B-protein\n",
      "OCTA B-DNA\n",
      "element I-DNA\n",
      "\n",
      "\n",
      "Predicted Labels :\n"
     ]
    },
    {
     "data": {
      "text/html": [
       "<span class=\"tex2jax_ignore\"><div class=\"entities\" style=\"line-height: 2.5; direction: ltr\">Extracts of the \n",
       "<mark class=\"entity\" style=\"background: #ddd; padding: 0.45em 0.6em; margin: 0 0.25em; line-height: 1; border-radius: 0.35em;\">\n",
       "    B-cell\n",
       "    <span style=\"font-size: 0.8em; font-weight: bold; line-height: 1; border-radius: 0.35em; vertical-align: middle; margin-left: 0.5rem\">B-cell_line</span>\n",
       "</mark>\n",
       " \n",
       "<mark class=\"entity\" style=\"background: #ddd; padding: 0.45em 0.6em; margin: 0 0.25em; line-height: 1; border-radius: 0.35em;\">\n",
       "    line\n",
       "    <span style=\"font-size: 0.8em; font-weight: bold; line-height: 1; border-radius: 0.35em; vertical-align: middle; margin-left: 0.5rem\">I-cell_line</span>\n",
       "</mark>\n",
       " , \n",
       "<mark class=\"entity\" style=\"background: #ddd; padding: 0.45em 0.6em; margin: 0 0.25em; line-height: 1; border-radius: 0.35em;\">\n",
       "    BJA-B\n",
       "    <span style=\"font-size: 0.8em; font-weight: bold; line-height: 1; border-radius: 0.35em; vertical-align: middle; margin-left: 0.5rem\">B-cell_line</span>\n",
       "</mark>\n",
       " , contain high levels of \n",
       "<mark class=\"entity\" style=\"background: #ddd; padding: 0.45em 0.6em; margin: 0 0.25em; line-height: 1; border-radius: 0.35em;\">\n",
       "    NF-A2\n",
       "    <span style=\"font-size: 0.8em; font-weight: bold; line-height: 1; border-radius: 0.35em; vertical-align: middle; margin-left: 0.5rem\">B-protein</span>\n",
       "</mark>\n",
       " and specifically \n",
       "<mark class=\"entity\" style=\"background: #ddd; padding: 0.45em 0.6em; margin: 0 0.25em; line-height: 1; border-radius: 0.35em;\">\n",
       "    transcribe\n",
       "    <span style=\"font-size: 0.8em; font-weight: bold; line-height: 1; border-radius: 0.35em; vertical-align: middle; margin-left: 0.5rem\">B-DNA</span>\n",
       "</mark>\n",
       " \n",
       "<mark class=\"entity\" style=\"background: #ddd; padding: 0.45em 0.6em; margin: 0 0.25em; line-height: 1; border-radius: 0.35em;\">\n",
       "    Ig\n",
       "    <span style=\"font-size: 0.8em; font-weight: bold; line-height: 1; border-radius: 0.35em; vertical-align: middle; margin-left: 0.5rem\">I-DNA</span>\n",
       "</mark>\n",
       " \n",
       "<mark class=\"entity\" style=\"background: #ddd; padding: 0.45em 0.6em; margin: 0 0.25em; line-height: 1; border-radius: 0.35em;\">\n",
       "    promoters\n",
       "    <span style=\"font-size: 0.8em; font-weight: bold; line-height: 1; border-radius: 0.35em; vertical-align: middle; margin-left: 0.5rem\">I-DNA</span>\n",
       "</mark>\n",
       " .</div></span>"
      ],
      "text/plain": [
       "<IPython.core.display.HTML object>"
      ]
     },
     "metadata": {},
     "output_type": "display_data"
    },
    {
     "name": "stdout",
     "output_type": "stream",
     "text": [
      "True Labels :\n",
      "B-cell B-cell_line\n",
      "line I-cell_line\n",
      "BJA-B B-cell_line\n",
      "NF-A2 B-protein\n",
      "Ig B-DNA\n",
      "promoters I-DNA\n",
      "\n",
      "\n",
      "Predicted Labels :\n"
     ]
    },
    {
     "data": {
      "text/html": [
       "<span class=\"tex2jax_ignore\"><div class=\"entities\" style=\"line-height: 2.5; direction: ltr\">In contrast , extracts from \n",
       "<mark class=\"entity\" style=\"background: #ddd; padding: 0.45em 0.6em; margin: 0 0.25em; line-height: 1; border-radius: 0.35em;\">\n",
       "    HeLa\n",
       "    <span style=\"font-size: 0.8em; font-weight: bold; line-height: 1; border-radius: 0.35em; vertical-align: middle; margin-left: 0.5rem\">B-cell_line</span>\n",
       "</mark>\n",
       " \n",
       "<mark class=\"entity\" style=\"background: #ddd; padding: 0.45em 0.6em; margin: 0 0.25em; line-height: 1; border-radius: 0.35em;\">\n",
       "    cells\n",
       "    <span style=\"font-size: 0.8em; font-weight: bold; line-height: 1; border-radius: 0.35em; vertical-align: middle; margin-left: 0.5rem\">I-cell_line</span>\n",
       "</mark>\n",
       " transcribed the \n",
       "<mark class=\"entity\" style=\"background: #ddd; padding: 0.45em 0.6em; margin: 0 0.25em; line-height: 1; border-radius: 0.35em;\">\n",
       "    Ig\n",
       "    <span style=\"font-size: 0.8em; font-weight: bold; line-height: 1; border-radius: 0.35em; vertical-align: middle; margin-left: 0.5rem\">B-DNA</span>\n",
       "</mark>\n",
       " \n",
       "<mark class=\"entity\" style=\"background: #ddd; padding: 0.45em 0.6em; margin: 0 0.25em; line-height: 1; border-radius: 0.35em;\">\n",
       "    promoter\n",
       "    <span style=\"font-size: 0.8em; font-weight: bold; line-height: 1; border-radius: 0.35em; vertical-align: middle; margin-left: 0.5rem\">I-DNA</span>\n",
       "</mark>\n",
       " poorly .</div></span>"
      ],
      "text/plain": [
       "<IPython.core.display.HTML object>"
      ]
     },
     "metadata": {},
     "output_type": "display_data"
    },
    {
     "name": "stdout",
     "output_type": "stream",
     "text": [
      "True Labels :\n",
      "HeLa B-cell_line\n",
      "cells I-cell_line\n",
      "Ig B-DNA\n",
      "promoter I-DNA\n",
      "\n",
      "\n",
      "Predicted Labels :\n"
     ]
    },
    {
     "data": {
      "text/html": [
       "<span class=\"tex2jax_ignore\"><div class=\"entities\" style=\"line-height: 2.5; direction: ltr\">Surprisingly , addition of either \n",
       "<mark class=\"entity\" style=\"background: #ddd; padding: 0.45em 0.6em; margin: 0 0.25em; line-height: 1; border-radius: 0.35em;\">\n",
       "    affinity-enriched\n",
       "    <span style=\"font-size: 0.8em; font-weight: bold; line-height: 1; border-radius: 0.35em; vertical-align: middle; margin-left: 0.5rem\">B-protein</span>\n",
       "</mark>\n",
       " \n",
       "<mark class=\"entity\" style=\"background: #ddd; padding: 0.45em 0.6em; margin: 0 0.25em; line-height: 1; border-radius: 0.35em;\">\n",
       "    NF-A2\n",
       "    <span style=\"font-size: 0.8em; font-weight: bold; line-height: 1; border-radius: 0.35em; vertical-align: middle; margin-left: 0.5rem\">I-protein</span>\n",
       "</mark>\n",
       " or \n",
       "<mark class=\"entity\" style=\"background: #ddd; padding: 0.45em 0.6em; margin: 0 0.25em; line-height: 1; border-radius: 0.35em;\">\n",
       "    NF-A1\n",
       "    <span style=\"font-size: 0.8em; font-weight: bold; line-height: 1; border-radius: 0.35em; vertical-align: middle; margin-left: 0.5rem\">B-protein</span>\n",
       "</mark>\n",
       " to either a HeLa extract or a partially purified reaction system specifically stimulates the \n",
       "<mark class=\"entity\" style=\"background: #ddd; padding: 0.45em 0.6em; margin: 0 0.25em; line-height: 1; border-radius: 0.35em;\">\n",
       "    Ig\n",
       "    <span style=\"font-size: 0.8em; font-weight: bold; line-height: 1; border-radius: 0.35em; vertical-align: middle; margin-left: 0.5rem\">B-DNA</span>\n",
       "</mark>\n",
       " \n",
       "<mark class=\"entity\" style=\"background: #ddd; padding: 0.45em 0.6em; margin: 0 0.25em; line-height: 1; border-radius: 0.35em;\">\n",
       "    promoter\n",
       "    <span style=\"font-size: 0.8em; font-weight: bold; line-height: 1; border-radius: 0.35em; vertical-align: middle; margin-left: 0.5rem\">I-DNA</span>\n",
       "</mark>\n",
       " .</div></span>"
      ],
      "text/plain": [
       "<IPython.core.display.HTML object>"
      ]
     },
     "metadata": {},
     "output_type": "display_data"
    },
    {
     "name": "stdout",
     "output_type": "stream",
     "text": [
      "True Labels :\n",
      "Ig B-DNA\n",
      "promoter I-DNA\n",
      "\n",
      "\n"
     ]
    }
   ],
   "source": [
    "from spacy import displacy\n",
    "\n",
    "test_examples = test_data[40:45]\n",
    "#test_examples = test_data[10:15]\n",
    "\n",
    "for example in test_examples:\n",
    "    doc = nlp_ner(example['text'])\n",
    "    print(\"Predicted Labels :\")\n",
    "    displacy.render(doc, style=\"ent\", jupyter=True)\n",
    "    \n",
    "    print(\"True Labels :\")\n",
    "    \n",
    "    for i in range(len(example['entities'])): \n",
    "        start = example['entities'][i][0]\n",
    "        end = example['entities'][i][1]\n",
    "        label = example['entities'][i][2]\n",
    "        print(example['text'][start:end], label)\n",
    "        \n",
    "    print(\"\\n\")"
   ]
  },
  {
   "cell_type": "raw",
   "id": "a36097a0",
   "metadata": {},
   "source": [
    "# To save test data text locally\n",
    "\n",
    "sample_docs = '\\n\\n'.join([example['text'] for example in test_data[0:50]])\n",
    "\n",
    "with open('test_medical_text', 'w', encoding='utf-8') as fout:\n",
    "    fout.write(sample_docs)\n"
   ]
  },
  {
   "cell_type": "code",
   "execution_count": 49,
   "id": "cab7e292",
   "metadata": {},
   "outputs": [],
   "source": [
    "#test_data[0:5]"
   ]
  },
  {
   "cell_type": "markdown",
   "id": "be552dfc",
   "metadata": {},
   "source": [
    "#### Evaluation metrics on test data \n",
    "https://stackoverflow.com/questions/52856057/is-there-a-way-with-spacys-ner-to-calculate-metrics-per-entity-type"
   ]
  },
  {
   "cell_type": "code",
   "execution_count": 50,
   "id": "abad2ca1",
   "metadata": {},
   "outputs": [
    {
     "data": {
      "text/plain": [
       "{'token_acc': 1.0,\n",
       " 'token_p': 1.0,\n",
       " 'token_r': 1.0,\n",
       " 'token_f': 1.0,\n",
       " 'ents_p': 0.7490529811634061,\n",
       " 'ents_r': 0.7443791254125413,\n",
       " 'ents_f': 0.7467087396218607,\n",
       " 'ents_per_type': {'B-protein': {'p': 0.6878677055175704,\n",
       "   'r': 0.8537596210775606,\n",
       "   'f': 0.7618879887284256},\n",
       "  'I-protein': {'p': 0.793999104343932,\n",
       "   'r': 0.7427733556765815,\n",
       "   'f': 0.7675324675324675},\n",
       "  'B-cell_type': {'p': 0.7796508127633955,\n",
       "   'r': 0.6741280583029672,\n",
       "   'f': 0.7230597431602456},\n",
       "  'I-cell_type': {'p': 0.8609022556390977,\n",
       "   'r': 0.6890672016048145,\n",
       "   'f': 0.7654596100278551},\n",
       "  'B-DNA': {'p': 0.7049180327868853,\n",
       "   'r': 0.6515151515151515,\n",
       "   'f': 0.6771653543307087},\n",
       "  'B-cell_line': {'p': 0.5484460694698354, 'r': 0.6, 'f': 0.5730659025787964},\n",
       "  'I-DNA': {'p': 0.799404761904762,\n",
       "   'r': 0.7506987143655673,\n",
       "   'f': 0.7742865379071778},\n",
       "  'I-cell_line': {'p': 0.6893305439330544,\n",
       "   'r': 0.6663296258847321,\n",
       "   'f': 0.6776349614395887},\n",
       "  'B-RNA': {'p': 0.6605504587155964,\n",
       "   'r': 0.6101694915254238,\n",
       "   'f': 0.6343612334801761},\n",
       "  'I-RNA': {'p': 0.7512953367875648,\n",
       "   'r': 0.7754010695187166,\n",
       "   'f': 0.7631578947368421}},\n",
       " 'speed': 32885.179930743354}"
      ]
     },
     "execution_count": 50,
     "metadata": {},
     "output_type": "execute_result"
    }
   ],
   "source": [
    "# Method 1\n",
    "\n",
    "from spacy.training.example import Example\n",
    "\n",
    "examples = []\n",
    "\n",
    "for example in test_data:\n",
    "    ent_dict = {}\n",
    "    #print(example['text'])\n",
    "    ent_dict['entities'] = example['entities']\n",
    "    #print(ent_dict)\n",
    "    doc = nlp_ner.make_doc(example['text'])\n",
    "    examples.append(Example.from_dict(doc, ent_dict))\n",
    "\n",
    "nlp_ner.evaluate(examples)\n",
    "#examples"
   ]
  },
  {
   "cell_type": "code",
   "execution_count": 51,
   "id": "db5de0e3",
   "metadata": {},
   "outputs": [
    {
     "data": {
      "text/plain": [
       "{'token_acc': 1.0,\n",
       " 'token_p': 1.0,\n",
       " 'token_r': 1.0,\n",
       " 'token_f': 1.0,\n",
       " 'sents_p': None,\n",
       " 'sents_r': None,\n",
       " 'sents_f': None,\n",
       " 'tag_acc': None,\n",
       " 'pos_acc': None,\n",
       " 'morph_acc': None,\n",
       " 'morph_micro_p': None,\n",
       " 'morph_micro_r': None,\n",
       " 'morph_micro_f': None,\n",
       " 'morph_per_feat': None,\n",
       " 'dep_uas': None,\n",
       " 'dep_las': None,\n",
       " 'dep_las_per_type': None,\n",
       " 'ents_p': 0.7490529811634061,\n",
       " 'ents_r': 0.7443791254125413,\n",
       " 'ents_f': 0.7467087396218607,\n",
       " 'ents_per_type': {'B-protein': {'p': 0.6878677055175704,\n",
       "   'r': 0.8537596210775606,\n",
       "   'f': 0.7618879887284256},\n",
       "  'I-protein': {'p': 0.793999104343932,\n",
       "   'r': 0.7427733556765815,\n",
       "   'f': 0.7675324675324675},\n",
       "  'B-cell_type': {'p': 0.7796508127633955,\n",
       "   'r': 0.6741280583029672,\n",
       "   'f': 0.7230597431602456},\n",
       "  'I-cell_type': {'p': 0.8609022556390977,\n",
       "   'r': 0.6890672016048145,\n",
       "   'f': 0.7654596100278551},\n",
       "  'B-DNA': {'p': 0.7049180327868853,\n",
       "   'r': 0.6515151515151515,\n",
       "   'f': 0.6771653543307087},\n",
       "  'B-cell_line': {'p': 0.5484460694698354, 'r': 0.6, 'f': 0.5730659025787964},\n",
       "  'I-DNA': {'p': 0.799404761904762,\n",
       "   'r': 0.7506987143655673,\n",
       "   'f': 0.7742865379071778},\n",
       "  'I-cell_line': {'p': 0.6893305439330544,\n",
       "   'r': 0.6663296258847321,\n",
       "   'f': 0.6776349614395887},\n",
       "  'B-RNA': {'p': 0.6605504587155964,\n",
       "   'r': 0.6101694915254238,\n",
       "   'f': 0.6343612334801761},\n",
       "  'I-RNA': {'p': 0.7512953367875648,\n",
       "   'r': 0.7754010695187166,\n",
       "   'f': 0.7631578947368421}},\n",
       " 'cats_score': 0.0,\n",
       " 'cats_score_desc': 'macro F',\n",
       " 'cats_micro_p': 0.0,\n",
       " 'cats_micro_r': 0.0,\n",
       " 'cats_micro_f': 0.0,\n",
       " 'cats_macro_p': 0.0,\n",
       " 'cats_macro_r': 0.0,\n",
       " 'cats_macro_f': 0.0,\n",
       " 'cats_macro_auc': 0.0,\n",
       " 'cats_f_per_type': {},\n",
       " 'cats_auc_per_type': {}}"
      ]
     },
     "execution_count": 51,
     "metadata": {},
     "output_type": "execute_result"
    }
   ],
   "source": [
    "# Method 2 \n",
    "\n",
    "from spacy.scorer import Scorer\n",
    "\n",
    "examples1 = []\n",
    "\n",
    "for example in test_data:\n",
    "    ent_dict = {}\n",
    "    #print(example['text'])\n",
    "    ent_dict['entities'] = example['entities']\n",
    "    #print(ent_dict)\n",
    "    doc = nlp_ner(example['text'])\n",
    "    examples1.append(Example.from_dict(doc, ent_dict))\n",
    "\n",
    "scorer = Scorer()\n",
    "scores = scorer.score(examples1)\n",
    "scores"
   ]
  },
  {
   "cell_type": "code",
   "execution_count": 52,
   "id": "853d390d",
   "metadata": {},
   "outputs": [
    {
     "name": "stdout",
     "output_type": "stream",
     "text": [
      "\u001b[38;5;4m[i] Using CPU\u001b[0m\n",
      "\u001b[1m\n",
      "================================== Results ==================================\u001b[0m\n",
      "\n",
      "TOK     100.00\n",
      "NER P   74.91 \n",
      "NER R   74.44 \n",
      "NER F   74.67 \n",
      "SPEED   31838 \n",
      "\n",
      "\u001b[1m\n",
      "=============================== NER (per type) ===============================\u001b[0m\n",
      "\n",
      "                  P       R       F\n",
      "B-protein     68.79   85.38   76.19\n",
      "I-protein     79.40   74.28   76.75\n",
      "B-cell_type   77.97   67.41   72.31\n",
      "I-cell_type   86.09   68.91   76.55\n",
      "B-DNA         70.49   65.15   67.72\n",
      "B-cell_line   54.84   60.00   57.31\n",
      "I-DNA         79.94   75.07   77.43\n",
      "I-cell_line   68.93   66.63   67.76\n",
      "B-RNA         66.06   61.02   63.44\n",
      "I-RNA         75.13   77.54   76.32\n",
      "\n"
     ]
    },
    {
     "name": "stderr",
     "output_type": "stream",
     "text": [
      "c:\\users\\rajar\\anaconda3\\lib\\site-packages\\transformers\\utils\\generic.py:441: FutureWarning: `torch.utils._pytree._register_pytree_node` is deprecated. Please use `torch.utils._pytree.register_pytree_node` instead.\n",
      "  _torch_pytree._register_pytree_node(\n",
      "c:\\users\\rajar\\anaconda3\\lib\\site-packages\\transformers\\utils\\generic.py:309: FutureWarning: `torch.utils._pytree._register_pytree_node` is deprecated. Please use `torch.utils._pytree.register_pytree_node` instead.\n",
      "  _torch_pytree._register_pytree_node(\n"
     ]
    }
   ],
   "source": [
    "# Method 3\n",
    "\n",
    "#test_doc_bin = DocBin()\n",
    "#build_doc_bin(test_data, test_doc_bin)\n",
    "#test_doc_bin.to_disk(\"test.spacy\") \n",
    "\n",
    "!spacy evaluate ./model-best ./test.spacy  "
   ]
  },
  {
   "cell_type": "code",
   "execution_count": 53,
   "id": "0ba1f36c",
   "metadata": {},
   "outputs": [
    {
     "name": "stdout",
     "output_type": "stream",
     "text": [
      "\u001b[38;5;4m[i] Using CPU\u001b[0m\n",
      "\u001b[1m\n",
      "================================== Results ==================================\u001b[0m\n",
      "\n",
      "TOK     100.00\n",
      "NER P   79.62 \n",
      "NER R   78.29 \n",
      "NER F   78.95 \n",
      "SPEED   33237 \n",
      "\n",
      "\u001b[1m\n",
      "=============================== NER (per type) ===============================\u001b[0m\n",
      "\n",
      "                  P       R       F\n",
      "B-DNA         76.48   67.68   71.81\n",
      "I-DNA         81.83   81.83   81.83\n",
      "B-protein     76.99   83.45   80.09\n",
      "I-protein     83.53   80.34   81.90\n",
      "B-cell_line   78.30   62.25   69.36\n",
      "I-cell_line   88.95   68.10   77.14\n",
      "B-cell_type   72.38   78.71   75.41\n",
      "I-cell_type   70.77   80.19   75.19\n",
      "I-RNA         89.47   84.07   86.69\n",
      "B-RNA         87.36   71.03   78.35\n",
      "\n"
     ]
    },
    {
     "name": "stderr",
     "output_type": "stream",
     "text": [
      "c:\\users\\rajar\\anaconda3\\lib\\site-packages\\transformers\\utils\\generic.py:441: FutureWarning: `torch.utils._pytree._register_pytree_node` is deprecated. Please use `torch.utils._pytree.register_pytree_node` instead.\n",
      "  _torch_pytree._register_pytree_node(\n",
      "c:\\users\\rajar\\anaconda3\\lib\\site-packages\\transformers\\utils\\generic.py:309: FutureWarning: `torch.utils._pytree._register_pytree_node` is deprecated. Please use `torch.utils._pytree.register_pytree_node` instead.\n",
      "  _torch_pytree._register_pytree_node(\n"
     ]
    }
   ],
   "source": [
    "!spacy evaluate ./model-best ./validation.spacy  "
   ]
  }
 ],
 "metadata": {
  "kernelspec": {
   "display_name": "Python 3",
   "language": "python",
   "name": "python3"
  },
  "language_info": {
   "codemirror_mode": {
    "name": "ipython",
    "version": 3
   },
   "file_extension": ".py",
   "mimetype": "text/x-python",
   "name": "python",
   "nbconvert_exporter": "python",
   "pygments_lexer": "ipython3",
   "version": "3.8.5"
  }
 },
 "nbformat": 4,
 "nbformat_minor": 5
}
