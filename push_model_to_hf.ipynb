{
 "cells": [
  {
   "cell_type": "markdown",
   "id": "4b799cd6",
   "metadata": {},
   "source": [
    "### Push fine tuned NER model to Huggingface hub, to be used via AWS App runner or Fargate."
   ]
  },
  {
   "cell_type": "code",
   "execution_count": 1,
   "id": "f19b6a62",
   "metadata": {},
   "outputs": [],
   "source": [
    "import spacy"
   ]
  },
  {
   "cell_type": "code",
   "execution_count": 2,
   "id": "c7b91755",
   "metadata": {},
   "outputs": [
    {
     "name": "stderr",
     "output_type": "stream",
     "text": [
      "C:\\Users\\rajar\\anaconda3\\lib\\site-packages\\transformers\\utils\\generic.py:441: FutureWarning: `torch.utils._pytree._register_pytree_node` is deprecated. Please use `torch.utils._pytree.register_pytree_node` instead.\n",
      "  _torch_pytree._register_pytree_node(\n",
      "C:\\Users\\rajar\\anaconda3\\lib\\site-packages\\transformers\\utils\\generic.py:309: FutureWarning: `torch.utils._pytree._register_pytree_node` is deprecated. Please use `torch.utils._pytree.register_pytree_node` instead.\n",
      "  _torch_pytree._register_pytree_node(\n"
     ]
    }
   ],
   "source": [
    "ner_model = spacy.load('../model-best')"
   ]
  },
  {
   "cell_type": "code",
   "execution_count": 3,
   "id": "b3e92de0",
   "metadata": {},
   "outputs": [
    {
     "data": {
      "text/html": [
       "<span class=\"tex2jax_ignore\"><div class=\"entities\" style=\"line-height: 2.5; direction: ltr\">Number of \n",
       "<mark class=\"entity\" style=\"background: #ddd; padding: 0.45em 0.6em; margin: 0 0.25em; line-height: 1; border-radius: 0.35em;\">\n",
       "    glucocorticoid\n",
       "    <span style=\"font-size: 0.8em; font-weight: bold; line-height: 1; border-radius: 0.35em; vertical-align: middle; margin-left: 0.5rem\">B-protein</span>\n",
       "</mark>\n",
       " \n",
       "<mark class=\"entity\" style=\"background: #ddd; padding: 0.45em 0.6em; margin: 0 0.25em; line-height: 1; border-radius: 0.35em;\">\n",
       "    receptors\n",
       "    <span style=\"font-size: 0.8em; font-weight: bold; line-height: 1; border-radius: 0.35em; vertical-align: middle; margin-left: 0.5rem\">I-protein</span>\n",
       "</mark>\n",
       " in \n",
       "<mark class=\"entity\" style=\"background: #ddd; padding: 0.45em 0.6em; margin: 0 0.25em; line-height: 1; border-radius: 0.35em;\">\n",
       "    lymphocytes\n",
       "    <span style=\"font-size: 0.8em; font-weight: bold; line-height: 1; border-radius: 0.35em; vertical-align: middle; margin-left: 0.5rem\">B-cell_type</span>\n",
       "</mark>\n",
       " and their sensitivity to hormone action .</div></span>"
      ],
      "text/plain": [
       "<IPython.core.display.HTML object>"
      ]
     },
     "metadata": {},
     "output_type": "display_data"
    }
   ],
   "source": [
    "doc = ner_model(\"Number of glucocorticoid receptors in lymphocytes and their sensitivity to hormone action .\")\n",
    "spacy.displacy.render(doc, style=\"ent\", jupyter=True)"
   ]
  },
  {
   "cell_type": "code",
   "execution_count": 11,
   "id": "794e6d44",
   "metadata": {},
   "outputs": [],
   "source": [
    "import shutil\n",
    "# If already ner-output folder is there, uncomment the below to remove it. \n",
    "#shutil.rmtree('./ner-output')"
   ]
  },
  {
   "cell_type": "code",
   "execution_count": 12,
   "id": "e68b4325",
   "metadata": {},
   "outputs": [
    {
     "name": "stderr",
     "output_type": "stream",
     "text": [
      "warning: no files found matching 'LICENSE'\n",
      "warning: no files found matching 'LICENSES_SOURCES'\n",
      "warning: no files found matching 'LICENSE'\n",
      "warning: no files found matching 'LICENSES_SOURCES'\n",
      "C:\\Users\\rajar\\anaconda3\\lib\\site-packages\\transformers\\utils\\generic.py:441: FutureWarning: `torch.utils._pytree._register_pytree_node` is deprecated. Please use `torch.utils._pytree.register_pytree_node` instead.\n",
      "  _torch_pytree._register_pytree_node(\n",
      "C:\\Users\\rajar\\anaconda3\\lib\\site-packages\\transformers\\utils\\generic.py:309: FutureWarning: `torch.utils._pytree._register_pytree_node` is deprecated. Please use `torch.utils._pytree.register_pytree_node` instead.\n",
      "  _torch_pytree._register_pytree_node(\n"
     ]
    }
   ],
   "source": [
    "# IMPORTANT - Before running this\n",
    "  # Create an empty folder named ner-output.\n",
    "  # Go to model-best dir, edit meta.json and change name to like \"name\":\"med_ner_pipeline\"\n",
    "  # Use the correct path to model-best whereever you have placed it.\n",
    "    \n",
    "!python -m spacy package \"../model-best\" \"./ner-output\" --build wheel"
   ]
  },
  {
   "cell_type": "code",
   "execution_count": null,
   "id": "05c06ee6",
   "metadata": {},
   "outputs": [],
   "source": [
    "# Install if not already done.\n",
    "#!pip install spacy-huggingface-hub"
   ]
  },
  {
   "cell_type": "code",
   "execution_count": 4,
   "id": "f613b449",
   "metadata": {},
   "outputs": [
    {
     "data": {
      "application/vnd.jupyter.widget-view+json": {
       "model_id": "b841a97232994a81a925b8cb0a8a538e",
       "version_major": 2,
       "version_minor": 0
      },
      "text/plain": [
       "VBox(children=(HTML(value='<center> <img\\nsrc=https://huggingface.co/front/assets/huggingface_logo-noborder.sv…"
      ]
     },
     "metadata": {},
     "output_type": "display_data"
    }
   ],
   "source": [
    "# Login to Hugging face with credentials to write access\n",
    "from huggingface_hub import notebook_login\n",
    "notebook_login()"
   ]
  },
  {
   "cell_type": "code",
   "execution_count": 5,
   "id": "b2e30071",
   "metadata": {},
   "outputs": [
    {
     "name": "stdout",
     "output_type": "stream",
     "text": [
      "\u001b[38;5;4mℹ Publishing to repository 'rajaramsblr/en_med_ner_pipeline'\u001b[0m\n",
      "result C:\\Users\\rajar\\AppData\\Local\\Temp\\tmpvdw1al7l\\en_med_ner_pipeline\\meta.json en_med_ner_pipeline/meta.json\n",
      "result C:\\Users\\rajar\\AppData\\Local\\Temp\\tmpvdw1al7l\\en_med_ner_pipeline\\en_med_ner_pipeline-0.0.0\\README.md en_med_ner_pipeline/en_med_ner_pipeline-0.0.0/README.md\n",
      "result C:\\Users\\rajar\\AppData\\Local\\Temp\\tmpvdw1al7l\\en_med_ner_pipeline\\en_med_ner_pipeline-0.0.0\\config.cfg en_med_ner_pipeline/en_med_ner_pipeline-0.0.0/config.cfg\n",
      "result C:\\Users\\rajar\\AppData\\Local\\Temp\\tmpvdw1al7l\\en_med_ner_pipeline\\en_med_ner_pipeline-0.0.0\\meta.json en_med_ner_pipeline/en_med_ner_pipeline-0.0.0/meta.json\n",
      "result C:\\Users\\rajar\\AppData\\Local\\Temp\\tmpvdw1al7l\\en_med_ner_pipeline\\en_med_ner_pipeline-0.0.0\\tokenizer en_med_ner_pipeline/en_med_ner_pipeline-0.0.0/tokenizer\n",
      "result C:\\Users\\rajar\\AppData\\Local\\Temp\\tmpvdw1al7l\\en_med_ner_pipeline\\en_med_ner_pipeline-0.0.0\\ner\\cfg en_med_ner_pipeline/en_med_ner_pipeline-0.0.0/ner/cfg\n",
      "result C:\\Users\\rajar\\AppData\\Local\\Temp\\tmpvdw1al7l\\en_med_ner_pipeline\\en_med_ner_pipeline-0.0.0\\ner\\model en_med_ner_pipeline/en_med_ner_pipeline-0.0.0/ner/model\n",
      "result C:\\Users\\rajar\\AppData\\Local\\Temp\\tmpvdw1al7l\\en_med_ner_pipeline\\en_med_ner_pipeline-0.0.0\\ner\\moves en_med_ner_pipeline/en_med_ner_pipeline-0.0.0/ner/moves\n",
      "result C:\\Users\\rajar\\AppData\\Local\\Temp\\tmpvdw1al7l\\en_med_ner_pipeline\\en_med_ner_pipeline-0.0.0\\tok2vec\\cfg en_med_ner_pipeline/en_med_ner_pipeline-0.0.0/tok2vec/cfg\n",
      "result C:\\Users\\rajar\\AppData\\Local\\Temp\\tmpvdw1al7l\\en_med_ner_pipeline\\en_med_ner_pipeline-0.0.0\\tok2vec\\model en_med_ner_pipeline/en_med_ner_pipeline-0.0.0/tok2vec/model\n",
      "result C:\\Users\\rajar\\AppData\\Local\\Temp\\tmpvdw1al7l\\en_med_ner_pipeline\\en_med_ner_pipeline-0.0.0\\vocab\\key2row en_med_ner_pipeline/en_med_ner_pipeline-0.0.0/vocab/key2row\n",
      "result C:\\Users\\rajar\\AppData\\Local\\Temp\\tmpvdw1al7l\\en_med_ner_pipeline\\en_med_ner_pipeline-0.0.0\\vocab\\lookups.bin en_med_ner_pipeline/en_med_ner_pipeline-0.0.0/vocab/lookups.bin\n",
      "result C:\\Users\\rajar\\AppData\\Local\\Temp\\tmpvdw1al7l\\en_med_ner_pipeline\\en_med_ner_pipeline-0.0.0\\vocab\\strings.json en_med_ner_pipeline/en_med_ner_pipeline-0.0.0/vocab/strings.json\n",
      "result C:\\Users\\rajar\\AppData\\Local\\Temp\\tmpvdw1al7l\\en_med_ner_pipeline\\en_med_ner_pipeline-0.0.0\\vocab\\vectors en_med_ner_pipeline/en_med_ner_pipeline-0.0.0/vocab/vectors\n",
      "result C:\\Users\\rajar\\AppData\\Local\\Temp\\tmpvdw1al7l\\en_med_ner_pipeline\\en_med_ner_pipeline-0.0.0\\vocab\\vectors.cfg en_med_ner_pipeline/en_med_ner_pipeline-0.0.0/vocab/vectors.cfg\n",
      "result C:\\Users\\rajar\\AppData\\Local\\Temp\\tmpvdw1al7l\\en_med_ner_pipeline-0.0.0.dist-info\\METADATA en_med_ner_pipeline-0.0.0.dist-info/METADATA\n",
      "result C:\\Users\\rajar\\AppData\\Local\\Temp\\tmpvdw1al7l\\en_med_ner_pipeline-0.0.0.dist-info\\WHEEL en_med_ner_pipeline-0.0.0.dist-info/WHEEL\n",
      "result C:\\Users\\rajar\\AppData\\Local\\Temp\\tmpvdw1al7l\\en_med_ner_pipeline-0.0.0.dist-info\\entry_points.txt en_med_ner_pipeline-0.0.0.dist-info/entry_points.txt\n",
      "result C:\\Users\\rajar\\AppData\\Local\\Temp\\tmpvdw1al7l\\en_med_ner_pipeline-0.0.0.dist-info\\top_level.txt en_med_ner_pipeline-0.0.0.dist-info/top_level.txt\n",
      "result C:\\Users\\rajar\\AppData\\Local\\Temp\\tmpvdw1al7l\\en_med_ner_pipeline-0.0.0.dist-info\\RECORD en_med_ner_pipeline-0.0.0.dist-info/RECORD\n",
      "\u001b[38;5;2m✔ Extracted information from .whl file\u001b[0m\n",
      "\u001b[38;5;2m✔ Created model card\u001b[0m\n",
      "en_med_ner_pipeline (v0.0.0)\n",
      "Pushing repository to the hub...\n",
      "\u001b[38;5;2m✔ Pushed repository 'en_med_ner_pipeline' to the hub\u001b[0m\n",
      "\n",
      "View your model here:\n",
      "https://huggingface.co/rajaramsblr/en_med_ner_pipeline\n",
      "\n",
      "Install your model:\n",
      "pip install https://huggingface.co/rajaramsblr/en_med_ner_pipeline/resolve/main/en_med_ner_pipeline-any-py3-none-any.whl\n"
     ]
    }
   ],
   "source": [
    "# Push/Upload your model to Hugging face hub\n",
    "from spacy_huggingface_hub import push\n",
    "result = push(\"./ner-output/en_med_ner_pipeline-0.0.0/dist/en_med_ner_pipeline-0.0.0-py3-none-any.whl\")"
   ]
  },
  {
   "cell_type": "code",
   "execution_count": null,
   "id": "a1e860cf",
   "metadata": {},
   "outputs": [],
   "source": []
  },
  {
   "cell_type": "code",
   "execution_count": null,
   "id": "d7363219",
   "metadata": {},
   "outputs": [],
   "source": [
    "# Download the model and test again"
   ]
  },
  {
   "cell_type": "code",
   "execution_count": 17,
   "id": "2262d69c",
   "metadata": {},
   "outputs": [
    {
     "name": "stderr",
     "output_type": "stream",
     "text": [
      "\n",
      "[notice] A new release of pip is available: 23.3.1 -> 24.2\n",
      "[notice] To update, run: python.exe -m pip install --upgrade pip\n"
     ]
    }
   ],
   "source": [
    "# You can get the below code by clicking \"Use this model\" on this url \n",
    "# https://huggingface.co/<you-user-name>/<specific-model-name>\n",
    "\n",
    "!pip install https://huggingface.co/rajaramsblr/en_med_ner_pipeline/resolve/main/en_med_ner_pipeline-any-py3-none-any.whl\n",
    "\n",
    "# Using spacy.load().\n",
    "import spacy\n",
    "nlp = spacy.load(\"en_med_ner_pipeline\")\n",
    "\n",
    "# Importing as module.\n",
    "# import en_med_ner_pipeline\n",
    "# nlp = en_med_ner_pipeline.load()"
   ]
  },
  {
   "cell_type": "code",
   "execution_count": 18,
   "id": "5b4cc36b",
   "metadata": {},
   "outputs": [
    {
     "data": {
      "text/html": [
       "<span class=\"tex2jax_ignore\"><div class=\"entities\" style=\"line-height: 2.5; direction: ltr\">Number of \n",
       "<mark class=\"entity\" style=\"background: #ddd; padding: 0.45em 0.6em; margin: 0 0.25em; line-height: 1; border-radius: 0.35em;\">\n",
       "    glucocorticoid\n",
       "    <span style=\"font-size: 0.8em; font-weight: bold; line-height: 1; border-radius: 0.35em; vertical-align: middle; margin-left: 0.5rem\">B-protein</span>\n",
       "</mark>\n",
       " \n",
       "<mark class=\"entity\" style=\"background: #ddd; padding: 0.45em 0.6em; margin: 0 0.25em; line-height: 1; border-radius: 0.35em;\">\n",
       "    receptors\n",
       "    <span style=\"font-size: 0.8em; font-weight: bold; line-height: 1; border-radius: 0.35em; vertical-align: middle; margin-left: 0.5rem\">I-protein</span>\n",
       "</mark>\n",
       " in \n",
       "<mark class=\"entity\" style=\"background: #ddd; padding: 0.45em 0.6em; margin: 0 0.25em; line-height: 1; border-radius: 0.35em;\">\n",
       "    lymphocytes\n",
       "    <span style=\"font-size: 0.8em; font-weight: bold; line-height: 1; border-radius: 0.35em; vertical-align: middle; margin-left: 0.5rem\">B-cell_type</span>\n",
       "</mark>\n",
       " and their sensitivity to hormone action .</div></span>"
      ],
      "text/plain": [
       "<IPython.core.display.HTML object>"
      ]
     },
     "metadata": {},
     "output_type": "display_data"
    }
   ],
   "source": [
    "doc = nlp(\"Number of glucocorticoid receptors in lymphocytes and their sensitivity to hormone action .\")\n",
    "spacy.displacy.render(doc, style=\"ent\", jupyter=True)"
   ]
  }
 ],
 "metadata": {
  "kernelspec": {
   "display_name": "Python 3",
   "language": "python",
   "name": "python3"
  },
  "language_info": {
   "codemirror_mode": {
    "name": "ipython",
    "version": 3
   },
   "file_extension": ".py",
   "mimetype": "text/x-python",
   "name": "python",
   "nbconvert_exporter": "python",
   "pygments_lexer": "ipython3",
   "version": "3.8.5"
  }
 },
 "nbformat": 4,
 "nbformat_minor": 5
}
